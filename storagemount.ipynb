{
 "cells": [
  {
   "cell_type": "markdown",
   "metadata": {
    "application/vnd.databricks.v1+cell": {
     "cellMetadata": {},
     "inputWidgets": {},
     "nuid": "c47b4c16-d1ac-4c30-a1d2-1be8974df164",
     "showTitle": false,
     "tableResultSettingsMap": {},
     "title": ""
    }
   },
   "source": [
    "# Storage Mount"
   ]
  },
  {
   "cell_type": "code",
   "execution_count": 0,
   "metadata": {
    "application/vnd.databricks.v1+cell": {
     "cellMetadata": {
      "byteLimit": 2048000,
      "rowLimit": 10000
     },
     "inputWidgets": {},
     "nuid": "b922f356-2881-4993-bae6-99b94503207a",
     "showTitle": false,
     "tableResultSettingsMap": {},
     "title": ""
    }
   },
   "outputs": [
    {
     "output_type": "execute_result",
     "data": {
      "text/plain": [
       "True"
      ]
     },
     "execution_count": 1,
     "metadata": {},
     "output_type": "execute_result"
    }
   ],
   "source": [
    "configs = {\n",
    "    \"fs.azure.account.auth.type\": \"CustomAccessToken\",\n",
    "    \"fs.azure.account.custom.token.provider.class\": spark.conf.get(\"spark.databricks.passthrough.adls.gen2.tokenProviderClassName\") \n",
    "}\n",
    "\n",
    "# Optionally, you can add the source URI of your mount point\n",
    "dbutils.fs.mount(\n",
    "    source = \"abfss://bronze@dstoragetwa.dfs.core.windows.net/\",\n",
    "    mount_point = \"/mnt/bronze\",\n",
    "    extra_configs = configs \n",
    ")"
   ]
  },
  {
   "cell_type": "code",
   "execution_count": 0,
   "metadata": {
    "application/vnd.databricks.v1+cell": {
     "cellMetadata": {
      "byteLimit": 2048000,
      "rowLimit": 10000
     },
     "inputWidgets": {},
     "nuid": "2b37cc74-12cc-49e8-9562-0d72c09c4fba",
     "showTitle": false,
     "tableResultSettingsMap": {},
     "title": ""
    }
   },
   "outputs": [
    {
     "output_type": "execute_result",
     "data": {
      "text/plain": [
       "True"
      ]
     },
     "execution_count": 2,
     "metadata": {},
     "output_type": "execute_result"
    }
   ],
   "source": [
    "dbutils.fs.mount(\n",
    "    source = \"abfss://silver@dstoragetwa.dfs.core.windows.net/\",\n",
    "    mount_point = \"/mnt/silver\",\n",
    "    extra_configs = configs \n",
    ")\n",
    "\n",
    "dbutils.fs.mount(\n",
    "    source = \"abfss://gold@dstoragetwa.dfs.core.windows.net/\",\n",
    "    mount_point = \"/mnt/gold\",\n",
    "    extra_configs = configs \n",
    ")"
   ]
  }
 ],
 "metadata": {
  "application/vnd.databricks.v1+notebook": {
   "computePreferences": null,
   "dashboards": [],
   "environmentMetadata": {
    "base_environment": "",
    "environment_version": "2"
   },
   "language": "python",
   "notebookMetadata": {
    "pythonIndentUnit": 4
   },
   "notebookName": "storagemount",
   "widgets": {}
  },
  "language_info": {
   "name": "python"
  }
 },
 "nbformat": 4,
 "nbformat_minor": 0
}